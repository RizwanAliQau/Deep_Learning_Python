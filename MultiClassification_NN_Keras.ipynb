{
 "cells": [
  {
   "cell_type": "markdown",
   "metadata": {},
   "source": [
    "Reuters Dataset (46 categories) : single-label,Multiclass Classification problem "
   ]
  },
  {
   "cell_type": "markdown",
   "metadata": {},
   "source": [
    "Step 1: loading dataset "
   ]
  },
  {
   "cell_type": "code",
   "execution_count": 4,
   "metadata": {},
   "outputs": [],
   "source": [
    "from keras.datasets import reuters\n",
    "import numpy as np"
   ]
  },
  {
   "cell_type": "code",
   "execution_count": 5,
   "metadata": {},
   "outputs": [],
   "source": [
    "old = np.load\n",
    "np.load = lambda *a,**k: old(*a,**k,allow_pickle=True)\n",
    "(train_data,train_labels),(test_data,test_labels) = reuters.load_data(num_words=10000)\n",
    "np.load = old\n",
    "del(old)"
   ]
  },
  {
   "cell_type": "code",
   "execution_count": 9,
   "metadata": {},
   "outputs": [
    {
     "name": "stdout",
     "output_type": "stream",
     "text": [
      "[1, 2, 2, 8, 43, 10, 447, 5, 25, 207, 270, 5, 3095, 111, 16, 369, 186, 90, 67, 7, 89, 5, 19, 102, 6, 19, 124, 15, 90, 67, 84, 22, 482, 26, 7, 48, 4, 49, 8, 864, 39, 209, 154, 6, 151, 6, 83, 11, 15, 22, 155, 11, 15, 7, 48, 9, 4579, 1005, 504, 6, 258, 6, 272, 11, 15, 22, 134, 44, 11, 15, 16, 8, 197, 1245, 90, 67, 52, 29, 209, 30, 32, 132, 6, 109, 15, 17, 12]\n"
     ]
    }
   ],
   "source": [
    "print(train_data[0])"
   ]
  },
  {
   "cell_type": "code",
   "execution_count": 10,
   "metadata": {},
   "outputs": [
    {
     "data": {
      "text/plain": [
       "3"
      ]
     },
     "execution_count": 10,
     "metadata": {},
     "output_type": "execute_result"
    }
   ],
   "source": [
    "test_labels[0]"
   ]
  },
  {
   "cell_type": "code",
   "execution_count": 11,
   "metadata": {},
   "outputs": [
    {
     "data": {
      "text/plain": [
       "8982"
      ]
     },
     "execution_count": 11,
     "metadata": {},
     "output_type": "execute_result"
    }
   ],
   "source": [
    "len(train_data)"
   ]
  },
  {
   "cell_type": "code",
   "execution_count": 12,
   "metadata": {},
   "outputs": [
    {
     "data": {
      "text/plain": [
       "2246"
      ]
     },
     "execution_count": 12,
     "metadata": {},
     "output_type": "execute_result"
    }
   ],
   "source": [
    "len(test_data)"
   ]
  },
  {
   "cell_type": "markdown",
   "metadata": {},
   "source": [
    "2) Preparing data "
   ]
  },
  {
   "cell_type": "code",
   "execution_count": 13,
   "metadata": {},
   "outputs": [],
   "source": [
    "def vectorize_sequence(sequences,dimension=10000):\n",
    "    results=np.zeros((len(sequences),dimension))\n",
    "    for i,sequence in enumerate(sequences):\n",
    "        results[i,sequence]=1.\n",
    "    return results\n"
   ]
  },
  {
   "cell_type": "code",
   "execution_count": 18,
   "metadata": {},
   "outputs": [],
   "source": [
    "x_train = vectorize_sequence(train_data) # categorical encoding\n",
    "# one hot encoding\n",
    "x_test = vectorize_sequence(test_data)"
   ]
  },
  {
   "cell_type": "code",
   "execution_count": 16,
   "metadata": {},
   "outputs": [
    {
     "data": {
      "text/plain": [
       "(8982, 10000)"
      ]
     },
     "execution_count": 16,
     "metadata": {},
     "output_type": "execute_result"
    }
   ],
   "source": [
    "x_train.shape"
   ]
  },
  {
   "cell_type": "code",
   "execution_count": 17,
   "metadata": {},
   "outputs": [
    {
     "data": {
      "text/plain": [
       "array([0., 1., 1., ..., 0., 0., 0.])"
      ]
     },
     "execution_count": 17,
     "metadata": {},
     "output_type": "execute_result"
    }
   ],
   "source": [
    "x_train[0]"
   ]
  },
  {
   "cell_type": "code",
   "execution_count": 19,
   "metadata": {},
   "outputs": [],
   "source": [
    "# one hot encoded labels\n",
    "from keras.utils.np_utils import to_categorical\n",
    "one_hot_train_labels = to_categorical(train_labels)\n",
    "one_hot_test_labels = to_categorical(test_labels)"
   ]
  },
  {
   "cell_type": "code",
   "execution_count": 21,
   "metadata": {
    "collapsed": true
   },
   "outputs": [
    {
     "data": {
      "text/plain": [
       "array([0., 0., 0., 0., 0., 0., 0., 0., 0., 0., 1., 0., 0., 0., 0., 0., 0.,\n",
       "       0., 0., 0., 0., 0., 0., 0., 0., 0., 0., 0., 0., 0., 0., 0., 0., 0.,\n",
       "       0., 0., 0., 0., 0., 0., 0., 0., 0., 0., 0., 0.], dtype=float32)"
      ]
     },
     "execution_count": 21,
     "metadata": {},
     "output_type": "execute_result"
    }
   ],
   "source": [
    "one_hot_test_labels[1]"
   ]
  },
  {
   "cell_type": "markdown",
   "metadata": {},
   "source": [
    "3) Building Network "
   ]
  },
  {
   "cell_type": "markdown",
   "metadata": {},
   "source": [
    "in previous case we are only differntiating or classify \n",
    "between two classes but in this case we have more classes so \n",
    "there is a need of more hidden units to avoid information \n",
    "bottleneck \n"
   ]
  },
  {
   "cell_type": "code",
   "execution_count": 22,
   "metadata": {},
   "outputs": [],
   "source": [
    "from keras import layers \n",
    "from keras import models "
   ]
  },
  {
   "cell_type": "code",
   "execution_count": 24,
   "metadata": {},
   "outputs": [],
   "source": [
    "model = models.Sequential()\n",
    "model.add(layers.Dense(64,activation='relu',input_shape=(10000,)))\n",
    "model.add(layers.Dense(64,activation='relu'))\n",
    "model.add(layers.Dense(46,activation='softmax'))"
   ]
  },
  {
   "cell_type": "markdown",
   "metadata": {},
   "source": [
    "4)  compiling the model "
   ]
  },
  {
   "cell_type": "code",
   "execution_count": 29,
   "metadata": {},
   "outputs": [],
   "source": [
    "model.compile(optimizer='rmsprop',\n",
    "              loss='categorical_crossentropy',metrics=['accuracy'])\n"
   ]
  },
  {
   "cell_type": "markdown",
   "metadata": {},
   "source": [
    "5) Seperate validation data "
   ]
  },
  {
   "cell_type": "code",
   "execution_count": 30,
   "metadata": {},
   "outputs": [],
   "source": [
    "# 1000 examples \n",
    "x_val = x_train[:1000]\n",
    "partial_x_train = x_train[1000:]\n",
    "\n",
    "y_val = one_hot_train_labels[:1000]\n",
    "partial_y_train = one_hot_train_labels[1000:]\n"
   ]
  },
  {
   "cell_type": "markdown",
   "metadata": {},
   "source": [
    "6) training model"
   ]
  },
  {
   "cell_type": "code",
   "execution_count": 32,
   "metadata": {
    "collapsed": true
   },
   "outputs": [
    {
     "name": "stdout",
     "output_type": "stream",
     "text": [
      "WARNING:tensorflow:From C:\\Rizwan\\anaconda3\\envs\\machine learning\\lib\\site-packages\\tensorflow\\python\\ops\\math_ops.py:3066: to_int32 (from tensorflow.python.ops.math_ops) is deprecated and will be removed in a future version.\n",
      "Instructions for updating:\n",
      "Use tf.cast instead.\n",
      "Train on 7982 samples, validate on 1000 samples\n",
      "Epoch 1/20\n",
      "7982/7982 [==============================] - 4s 509us/step - loss: 2.5526 - acc: 0.5249 - val_loss: 1.7377 - val_acc: 0.6360\n",
      "Epoch 2/20\n",
      "7982/7982 [==============================] - 2s 245us/step - loss: 1.4259 - acc: 0.7096 - val_loss: 1.3148 - val_acc: 0.7200\n",
      "Epoch 3/20\n",
      "7982/7982 [==============================] - 2s 245us/step - loss: 1.0573 - acc: 0.7806 - val_loss: 1.1504 - val_acc: 0.7500\n",
      "Epoch 4/20\n",
      "7982/7982 [==============================] - 2s 241us/step - loss: 0.8312 - acc: 0.8261 - val_loss: 1.0593 - val_acc: 0.7670\n",
      "Epoch 5/20\n",
      "7982/7982 [==============================] - 2s 244us/step - loss: 0.6621 - acc: 0.8619 - val_loss: 0.9790 - val_acc: 0.7860\n",
      "Epoch 6/20\n",
      "7982/7982 [==============================] - 2s 240us/step - loss: 0.5281 - acc: 0.8906 - val_loss: 0.9407 - val_acc: 0.7900\n",
      "Epoch 7/20\n",
      "7982/7982 [==============================] - 2s 236us/step - loss: 0.4262 - acc: 0.9094 - val_loss: 0.9375 - val_acc: 0.7950\n",
      "Epoch 8/20\n",
      "7982/7982 [==============================] - 2s 239us/step - loss: 0.3416 - acc: 0.9257 - val_loss: 0.8816 - val_acc: 0.8080\n",
      "Epoch 9/20\n",
      "7982/7982 [==============================] - 2s 242us/step - loss: 0.2866 - acc: 0.9376 - val_loss: 0.9108 - val_acc: 0.8040\n",
      "Epoch 10/20\n",
      "7982/7982 [==============================] - 2s 245us/step - loss: 0.2386 - acc: 0.9453 - val_loss: 0.8956 - val_acc: 0.8140\n",
      "Epoch 11/20\n",
      "7982/7982 [==============================] - 2s 262us/step - loss: 0.2043 - acc: 0.9486 - val_loss: 0.9074 - val_acc: 0.8170\n",
      "Epoch 12/20\n",
      "7982/7982 [==============================] - 2s 288us/step - loss: 0.1830 - acc: 0.9508 - val_loss: 0.9392 - val_acc: 0.8150\n",
      "Epoch 13/20\n",
      "7982/7982 [==============================] - 3s 370us/step - loss: 0.1629 - acc: 0.9563 - val_loss: 0.9699 - val_acc: 0.8110\n",
      "Epoch 14/20\n",
      "7982/7982 [==============================] - 2s 306us/step - loss: 0.1486 - acc: 0.9550 - val_loss: 0.9608 - val_acc: 0.8060\n",
      "Epoch 15/20\n",
      "7982/7982 [==============================] - 2s 304us/step - loss: 0.1375 - acc: 0.9562 - val_loss: 0.9690 - val_acc: 0.8230\n",
      "Epoch 16/20\n",
      "7982/7982 [==============================] - 3s 340us/step - loss: 0.1279 - acc: 0.9579 - val_loss: 0.9611 - val_acc: 0.8120\n",
      "Epoch 17/20\n",
      "7982/7982 [==============================] - 2s 300us/step - loss: 0.1234 - acc: 0.9587 - val_loss: 0.9861 - val_acc: 0.8080\n",
      "Epoch 18/20\n",
      "7982/7982 [==============================] - 2s 304us/step - loss: 0.1202 - acc: 0.9567 - val_loss: 1.0258 - val_acc: 0.8100\n",
      "Epoch 19/20\n",
      "7982/7982 [==============================] - 3s 321us/step - loss: 0.1172 - acc: 0.9579 - val_loss: 1.0174 - val_acc: 0.8100\n",
      "Epoch 20/20\n",
      "7982/7982 [==============================] - 2s 300us/step - loss: 0.1079 - acc: 0.9593 - val_loss: 1.0602 - val_acc: 0.7940\n"
     ]
    }
   ],
   "source": [
    "history = model.fit(partial_x_train,partial_y_train,epochs=20,\n",
    "                   batch_size=512,validation_data=(x_val,y_val))\n"
   ]
  },
  {
   "cell_type": "code",
   "execution_count": 33,
   "metadata": {},
   "outputs": [],
   "source": [
    "history = history.history"
   ]
  },
  {
   "cell_type": "code",
   "execution_count": 34,
   "metadata": {
    "collapsed": true
   },
   "outputs": [
    {
     "name": "stdout",
     "output_type": "stream",
     "text": [
      "{'val_loss': [1.737709044456482, 1.3148456058502198, 1.1504352359771728, 1.0593194189071655, 0.9790371637344361, 0.9407461562156677, 0.9374972410202026, 0.8816292839050293, 0.9107928972244262, 0.8956130514144898, 0.9074408831596374, 0.9392469992637634, 0.9698712911605835, 0.9607767248153687, 0.9689536695480346, 0.961113293170929, 0.9860733375549317, 1.0257918968200683, 1.0173802070617677, 1.0601655349731445], 'val_acc': [0.6360000095367432, 0.7200000128746032, 0.7500000071525573, 0.7670000133514404, 0.7859999928474426, 0.7900000123977661, 0.7949999856948853, 0.8080000028610229, 0.8039999918937684, 0.8139999871253967, 0.8169999980926513, 0.8150000114440918, 0.8109999895095825, 0.8060000076293945, 0.8230000066757203, 0.8119999980926513, 0.8080000028610229, 0.8099999980926513, 0.8100000138282776, 0.7940000100135803], 'loss': [2.552587607067589, 1.4258859103199713, 1.0572537442730412, 0.8312082302597226, 0.6620997987245145, 0.5281241638816947, 0.4261790354713047, 0.3415625483820654, 0.2865898331076064, 0.23863770043049443, 0.20431174711233033, 0.18302133003965232, 0.16289496388210745, 0.1486201926345247, 0.1374956357414876, 0.1279303394286025, 0.12339178044689654, 0.12021356507056759, 0.11723386973284504, 0.10789401369251962], 'acc': [0.5249310939182348, 0.7095965930645521, 0.7806314200693072, 0.8261087457209534, 0.8619393640310058, 0.8906289161192508, 0.9094211976798786, 0.9257078424368667, 0.9376096216337748, 0.94525181667693, 0.9486344284325487, 0.9507642195834698, 0.9562766230724653, 0.9550238031547669, 0.9561513394259236, 0.9579052876721227, 0.9586569773048663, 0.9566524676498809, 0.9579052868805802, 0.9592833870247592]}\n"
     ]
    }
   ],
   "source": [
    "print(history)"
   ]
  },
  {
   "cell_type": "code",
   "execution_count": 36,
   "metadata": {},
   "outputs": [
    {
     "name": "stdout",
     "output_type": "stream",
     "text": [
      "[1.737709044456482, 1.3148456058502198, 1.1504352359771728, 1.0593194189071655, 0.9790371637344361, 0.9407461562156677, 0.9374972410202026, 0.8816292839050293, 0.9107928972244262, 0.8956130514144898, 0.9074408831596374, 0.9392469992637634, 0.9698712911605835, 0.9607767248153687, 0.9689536695480346, 0.961113293170929, 0.9860733375549317, 1.0257918968200683, 1.0173802070617677, 1.0601655349731445]\n"
     ]
    }
   ],
   "source": [
    "print(history['val_loss'])"
   ]
  },
  {
   "cell_type": "markdown",
   "metadata": {},
   "source": [
    "7) plotting traing and validation loss and accuracy "
   ]
  },
  {
   "cell_type": "code",
   "execution_count": 37,
   "metadata": {},
   "outputs": [
    {
     "data": {
      "text/plain": [
       "dict_keys(['val_loss', 'val_acc', 'loss', 'acc'])"
      ]
     },
     "execution_count": 37,
     "metadata": {},
     "output_type": "execute_result"
    }
   ],
   "source": [
    "history.keys()"
   ]
  },
  {
   "cell_type": "code",
   "execution_count": 45,
   "metadata": {},
   "outputs": [],
   "source": [
    "val_loss = history['val_loss']\n",
    "tra_loss = history['loss']\n",
    "epochs = [i for i in range(1,len(val_loss)+1)] "
   ]
  },
  {
   "cell_type": "code",
   "execution_count": 46,
   "metadata": {},
   "outputs": [
    {
     "data": {
      "text/plain": [
       "[1, 2, 3, 4, 5, 6, 7, 8, 9, 10, 11, 12, 13, 14, 15, 16, 17, 18, 19, 20]"
      ]
     },
     "execution_count": 46,
     "metadata": {},
     "output_type": "execute_result"
    }
   ],
   "source": [
    "epochs"
   ]
  },
  {
   "cell_type": "code",
   "execution_count": 47,
   "metadata": {},
   "outputs": [],
   "source": [
    "import matplotlib.pyplot as plt"
   ]
  },
  {
   "cell_type": "code",
   "execution_count": 52,
   "metadata": {},
   "outputs": [
    {
     "data": {
      "image/png": "[encoded data removed]",
      "text/plain": [
       "<Figure size 432x288 with 1 Axes>"
      ]
     },
     "metadata": {
      "needs_background": "light"
     },
     "output_type": "display_data"
    }
   ],
   "source": [
    "plt.plot(epochs,val_loss,'bo',label='validation loss')\n",
    "plt.plot(epochs,tra_loss,'b',label='training loss')\n",
    "plt.title('Training and Validation Loss')\n",
    "plt.xlabel('Epoch')\n",
    "plt.ylabel('Loss')\n",
    "plt.legend()\n",
    "plt.show()"
   ]
  },
  {
   "cell_type": "code",
   "execution_count": 54,
   "metadata": {},
   "outputs": [],
   "source": [
    "val_acc = history['val_acc']\n",
    "tra_acc = history['acc']"
   ]
  },
  {
   "cell_type": "code",
   "execution_count": 55,
   "metadata": {},
   "outputs": [
    {
     "data": {
      "image/png": "[encoded data removed]",
      "text/plain": [
       "<Figure size 432x288 with 1 Axes>"
      ]
     },
     "metadata": {
      "needs_background": "light"
     },
     "output_type": "display_data"
    }
   ],
   "source": [
    "plt.plot(epochs,val_acc,'bo',label='validation acc')\n",
    "plt.plot(epochs,tra_acc,'b',label='training acc')\n",
    "plt.title('Training and Validation Acc')\n",
    "plt.xlabel('Epoch')\n",
    "plt.ylabel('Acc')\n",
    "plt.legend()\n",
    "plt.show()"
   ]
  },
  {
   "cell_type": "markdown",
   "metadata": {},
   "source": [
    "Analysis : After nine(9) epochs the model started to overfit so next we trained for 9 epochs and do the testing on test dataset."
   ]
  },
  {
   "cell_type": "code",
   "execution_count": 56,
   "metadata": {},
   "outputs": [
    {
     "name": "stdout",
     "output_type": "stream",
     "text": [
      "Train on 7982 samples, validate on 1000 samples\n",
      "Epoch 1/9\n",
      "7982/7982 [==============================] - 2s 264us/step - loss: 0.1054 - acc: 0.9582 - val_loss: 1.0770 - val_acc: 0.8030\n",
      "Epoch 2/9\n",
      "7982/7982 [==============================] - 2s 264us/step - loss: 0.1025 - acc: 0.9570 - val_loss: 1.1051 - val_acc: 0.8010\n",
      "Epoch 3/9\n",
      "7982/7982 [==============================] - 2s 294us/step - loss: 0.1044 - acc: 0.9584 - val_loss: 1.0768 - val_acc: 0.8100\n",
      "Epoch 4/9\n",
      "7982/7982 [==============================] - 2s 285us/step - loss: 0.1054 - acc: 0.9557 - val_loss: 1.0956 - val_acc: 0.8030\n",
      "Epoch 5/9\n",
      "7982/7982 [==============================] - 2s 267us/step - loss: 0.0986 - acc: 0.9577 - val_loss: 1.1220 - val_acc: 0.8060\n",
      "Epoch 6/9\n",
      "7982/7982 [==============================] - 2s 258us/step - loss: 0.1002 - acc: 0.9560 - val_loss: 1.1904 - val_acc: 0.7890\n",
      "Epoch 7/9\n",
      "7982/7982 [==============================] - 2s 252us/step - loss: 0.0985 - acc: 0.9575 - val_loss: 1.1320 - val_acc: 0.8060\n",
      "Epoch 8/9\n",
      "7982/7982 [==============================] - 2s 279us/step - loss: 0.0937 - acc: 0.9592 - val_loss: 1.2145 - val_acc: 0.7900\n",
      "Epoch 9/9\n",
      "7982/7982 [==============================] - 2s 257us/step - loss: 0.0971 - acc: 0.9588 - val_loss: 1.1465 - val_acc: 0.8000\n"
     ]
    },
    {
     "data": {
      "text/plain": [
       "<keras.callbacks.History at 0x20f0c6410f0>"
      ]
     },
     "execution_count": 56,
     "metadata": {},
     "output_type": "execute_result"
    }
   ],
   "source": [
    "model_1 = model\n",
    "model_1.fit(partial_x_train,partial_y_train,epochs=9,\n",
    "                   batch_size=512,validation_data=(x_val,y_val))\n"
   ]
  },
  {
   "cell_type": "code",
   "execution_count": 58,
   "metadata": {},
   "outputs": [
    {
     "name": "stdout",
     "output_type": "stream",
     "text": [
      "2246/2246 [==============================] - 1s 251us/step\n"
     ]
    }
   ],
   "source": [
    "results = model_1.evaluate(x_test,one_hot_test_labels)"
   ]
  },
  {
   "cell_type": "code",
   "execution_count": 59,
   "metadata": {},
   "outputs": [
    {
     "data": {
      "text/plain": [
       "[1.338310194779801, 0.7836153161706185]"
      ]
     },
     "execution_count": 59,
     "metadata": {},
     "output_type": "execute_result"
    }
   ],
   "source": [
    "results"
   ]
  },
  {
   "cell_type": "code",
   "execution_count": 62,
   "metadata": {},
   "outputs": [
    {
     "data": {
      "text/plain": [
       "0.19857524487978628"
      ]
     },
     "execution_count": 62,
     "metadata": {},
     "output_type": "execute_result"
    }
   ],
   "source": [
    "# thats pretty good on random we get around 19% accurcay \n",
    "import copy \n",
    "test_labels_copy = copy.copy(test_labels)\n",
    "np.random.shuffle(test_labels_copy)\n",
    "hits_array = test_labels==test_labels_copy\n",
    "float(np.sum(hits_array)/len(test_labels))"
   ]
  },
  {
   "cell_type": "markdown",
   "metadata": {},
   "source": [
    "Analyzing Prediction: "
   ]
  },
  {
   "cell_type": "code",
   "execution_count": 63,
   "metadata": {},
   "outputs": [],
   "source": [
    "predictions = model_1.predict(x_test)"
   ]
  },
  {
   "cell_type": "code",
   "execution_count": 64,
   "metadata": {},
   "outputs": [
    {
     "data": {
      "text/plain": [
       "(46,)"
      ]
     },
     "execution_count": 64,
     "metadata": {},
     "output_type": "execute_result"
    }
   ],
   "source": [
    "predictions[0].shape"
   ]
  },
  {
   "cell_type": "code",
   "execution_count": 65,
   "metadata": {},
   "outputs": [
    {
     "data": {
      "text/plain": [
       "1.0"
      ]
     },
     "execution_count": 65,
     "metadata": {},
     "output_type": "execute_result"
    }
   ],
   "source": [
    "np.sum(predictions[0])"
   ]
  },
  {
   "cell_type": "code",
   "execution_count": 68,
   "metadata": {},
   "outputs": [
    {
     "data": {
      "text/plain": [
       "3"
      ]
     },
     "execution_count": 68,
     "metadata": {},
     "output_type": "execute_result"
    }
   ],
   "source": [
    "np.argmax(predictions[0]) # predicted category "
   ]
  },
  {
   "cell_type": "markdown",
   "metadata": {},
   "source": [
    "A different way to handle label and loss"
   ]
  },
  {
   "cell_type": "code",
   "execution_count": 69,
   "metadata": {},
   "outputs": [],
   "source": [
    "# integer tensors\n",
    "y_train = np.array(train_labels)\n",
    "y_test = np.array(test_labels)"
   ]
  },
  {
   "cell_type": "code",
   "execution_count": 71,
   "metadata": {},
   "outputs": [
    {
     "data": {
      "text/plain": [
       "(8982,)"
      ]
     },
     "execution_count": 71,
     "metadata": {},
     "output_type": "execute_result"
    }
   ],
   "source": [
    "y_train.shape"
   ]
  },
  {
   "cell_type": "code",
   "execution_count": 72,
   "metadata": {},
   "outputs": [],
   "source": [
    "# so choice of loss function is changes as the output is integer categories\n",
    "model_2 = model\n",
    "model_2.compile(optimizer='rmsprop',loss= 'sparse_categorical_crossentropy',\n",
    "               \n",
    "               metrics=['acc'])"
   ]
  },
  {
   "cell_type": "code",
   "execution_count": 73,
   "metadata": {},
   "outputs": [],
   "source": [
    "# same loss function as categorical_crossentropy but different interface"
   ]
  },
  {
   "cell_type": "markdown",
   "metadata": {},
   "source": [
    "Now, analyze what happens when the hidden units have less units then number of outputs "
   ]
  },
  {
   "cell_type": "code",
   "execution_count": 75,
   "metadata": {},
   "outputs": [],
   "source": [
    "model_3 = models.Sequential()\n",
    "model_3.add(layers.Dense(64,activation='relu',input_shape=(10000,)))\n",
    "model_3.add(layers.Dense(4,activation='relu'))\n",
    "model_3.add(layers.Dense(46,activation='softmax'))"
   ]
  },
  {
   "cell_type": "code",
   "execution_count": 76,
   "metadata": {},
   "outputs": [],
   "source": [
    "model_3.compile(optimizer='rmsprop',loss= 'categorical_crossentropy',\n",
    "               \n",
    "               metrics=['acc'])"
   ]
  },
  {
   "cell_type": "code",
   "execution_count": 77,
   "metadata": {},
   "outputs": [
    {
     "name": "stdout",
     "output_type": "stream",
     "text": [
      "Train on 7982 samples, validate on 1000 samples\n",
      "Epoch 1/20\n",
      "7982/7982 [==============================] - 3s 386us/step - loss: 3.6234 - acc: 0.0443 - val_loss: 3.4140 - val_acc: 0.0460\n",
      "Epoch 2/20\n",
      "7982/7982 [==============================] - 2s 238us/step - loss: 3.2109 - acc: 0.2578 - val_loss: 3.0133 - val_acc: 0.4550\n",
      "Epoch 3/20\n",
      "7982/7982 [==============================] - 2s 243us/step - loss: 2.7479 - acc: 0.5048 - val_loss: 2.5900 - val_acc: 0.5130\n",
      "Epoch 4/20\n",
      "7982/7982 [==============================] - 2s 241us/step - loss: 2.3003 - acc: 0.5437 - val_loss: 2.2275 - val_acc: 0.5430\n",
      "Epoch 5/20\n",
      "7982/7982 [==============================] - 2s 236us/step - loss: 1.9500 - acc: 0.5666 - val_loss: 1.9655 - val_acc: 0.5650\n",
      "Epoch 6/20\n",
      "7982/7982 [==============================] - 2s 236us/step - loss: 1.7210 - acc: 0.5836 - val_loss: 1.8172 - val_acc: 0.5710\n",
      "Epoch 7/20\n",
      "7982/7982 [==============================] - 2s 240us/step - loss: 1.5701 - acc: 0.5901 - val_loss: 1.7256 - val_acc: 0.5760\n",
      "Epoch 8/20\n",
      "7982/7982 [==============================] - 2s 245us/step - loss: 1.4544 - acc: 0.5960 - val_loss: 1.6538 - val_acc: 0.5800\n",
      "Epoch 9/20\n",
      "7982/7982 [==============================] - 2s 243us/step - loss: 1.3567 - acc: 0.6094 - val_loss: 1.5989 - val_acc: 0.5820\n",
      "Epoch 10/20\n",
      "7982/7982 [==============================] - 2s 241us/step - loss: 1.2596 - acc: 0.6250 - val_loss: 1.5377 - val_acc: 0.5950\n",
      "Epoch 11/20\n",
      "7982/7982 [==============================] - 2s 239us/step - loss: 1.1642 - acc: 0.6635 - val_loss: 1.4946 - val_acc: 0.6210\n",
      "Epoch 12/20\n",
      "7982/7982 [==============================] - 2s 275us/step - loss: 1.0765 - acc: 0.7234 - val_loss: 1.4478 - val_acc: 0.6520\n",
      "Epoch 13/20\n",
      "7982/7982 [==============================] - 2s 297us/step - loss: 1.0000 - acc: 0.7567 - val_loss: 1.4191 - val_acc: 0.6680\n",
      "Epoch 14/20\n",
      "7982/7982 [==============================] - 2s 287us/step - loss: 0.9379 - acc: 0.7706 - val_loss: 1.3997 - val_acc: 0.6820\n",
      "Epoch 15/20\n",
      "7982/7982 [==============================] - 2s 294us/step - loss: 0.8863 - acc: 0.7759 - val_loss: 1.3890 - val_acc: 0.6860\n",
      "Epoch 16/20\n",
      "7982/7982 [==============================] - 2s 292us/step - loss: 0.8399 - acc: 0.7855 - val_loss: 1.3915 - val_acc: 0.6840\n",
      "Epoch 17/20\n",
      "7982/7982 [==============================] - 2s 291us/step - loss: 0.8004 - acc: 0.7924 - val_loss: 1.3856 - val_acc: 0.6860\n",
      "Epoch 18/20\n",
      "7982/7982 [==============================] - 2s 293us/step - loss: 0.7644 - acc: 0.7997 - val_loss: 1.3698 - val_acc: 0.6830\n",
      "Epoch 19/20\n",
      "7982/7982 [==============================] - 2s 294us/step - loss: 0.7307 - acc: 0.8063 - val_loss: 1.3846 - val_acc: 0.6890\n",
      "Epoch 20/20\n",
      "7982/7982 [==============================] - 2s 288us/step - loss: 0.6997 - acc: 0.8128 - val_loss: 1.3985 - val_acc: 0.6880\n"
     ]
    },
    {
     "data": {
      "text/plain": [
       "<keras.callbacks.History at 0x20f0b51e860>"
      ]
     },
     "execution_count": 77,
     "metadata": {},
     "output_type": "execute_result"
    }
   ],
   "source": [
    "model_3.fit(partial_x_train,partial_y_train,epochs=20,\n",
    "                   batch_size=512,validation_data=(x_val,y_val))"
   ]
  },
  {
   "cell_type": "markdown",
   "metadata": {},
   "source": [
    "Both the training and validation accuracy drops sgnificantly due to information bottleneck so there is a lot of loss of information in intermediate layer that have 4 hidden units "
   ]
  },
  {
   "cell_type": "markdown",
   "metadata": {},
   "source": [
    "Final Summary :\n",
    "* The units in hidden units must be larger than or equal to ouput categories\n",
    "* In single-label, multiclass classification problem the end layer must be end with softmax activation function \n",
    "* categorical crossentropy is the choice among most of such multi-class classification problems\n",
    "* There are two ways to handle labels: one is categorical or one-hot encoding where loss function is choosen as categorical_crossentropy and other is encoding labels as integers where loss is use as sparse_categorical_crossentropy\n",
    "* if the ouput categories/labels increses you should increase the size of hidden layers"
   ]
  },
  {
   "cell_type": "code",
   "execution_count": null,
   "metadata": {},
   "outputs": [],
   "source": []
  }
 ],
 "metadata": {
  "kernelspec": {
   "display_name": "Python 3",
   "language": "python",
   "name": "python3"
  },
  "language_info": {
   "codemirror_mode": {
    "name": "ipython",
    "version": 3
   },
   "file_extension": ".py",
   "mimetype": "text/x-python",
   "name": "python",
   "nbconvert_exporter": "python",
   "pygments_lexer": "ipython3",
   "version": "3.6.9"
  }
 },
 "nbformat": 4,
 "nbformat_minor": 2
}
